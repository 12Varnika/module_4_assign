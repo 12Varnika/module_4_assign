{
 "cells": [
  {
   "cell_type": "code",
   "execution_count": null,
   "id": "d4062133-a360-442d-8a1e-5511f29a9c7f",
   "metadata": {},
   "outputs": [],
   "source": [
    "#module 4 assignment\n",
    "#QUES.1 Difference between a function and a method in python.\n",
    "#ANS.   Fuctions are the block of code which can be reuse in a code.\n",
    "        #while method is a set of instructions which is associated with the object or a class when \n",
    "        #invoked."
   ]
  },
  {
   "cell_type": "code",
   "execution_count": null,
   "id": "14987a1b-b210-4ce5-bec3-e7bc1c61d6a6",
   "metadata": {},
   "outputs": [],
   "source": [
    "#QUES.2 Concepts of arguments and parameters .\n",
    "#ANS.   Parameter is a variable enclosed in parenthesies in function defination. An argument is the \n",
    "        #value that are sent to the function when it is called.\n",
    "        #example of parameter\n",
    "        def add(num1, num2)\n",
    "        \n",
    "        #exampleof argument\n",
    "        in add(3,4)  #3,4 is a argument"
   ]
  },
  {
   "cell_type": "code",
   "execution_count": null,
   "id": "186a42f7-afa7-4049-82f6-098ad58549c5",
   "metadata": {},
   "outputs": [],
   "source": [
    "#QUES.3  What are the different ways to define and call the function ?\n",
    "#ANS.    To define a function we simply write def keyword with function name and a parameter\n",
    "         #enclosed with parenthesis and a : colon which indicates the starting of a code.\n",
    "         #to call a function write function name ,follow by parenthesis with argument ."
   ]
  },
  {
   "cell_type": "code",
   "execution_count": null,
   "id": "57d4bd62-646a-4998-83b7-1bd66aa7ee1a",
   "metadata": {},
   "outputs": [],
   "source": [
    "#QUES.4 Purpose of return statement in python?\n",
    "#ANS.   The return statement in python states the end of a function and return any datatype like \n",
    "        #int, float, string."
   ]
  },
  {
   "cell_type": "code",
   "execution_count": null,
   "id": "7e177c12-51e8-49bb-a716-c3c9e5e1e9d0",
   "metadata": {},
   "outputs": [],
   "source": [
    "#QUES.5 What are iterators in Python and how do they differ from iterables?\n",
    "#ANs.    An iterator is an object that contains a countable number of values.Whereas, Iterables is any\n",
    "        #python object/ sequential structure / data structure i.e capable of returing its member\n",
    "        #one at a a time. eg. list , tuple"
   ]
  },
  {
   "cell_type": "code",
   "execution_count": null,
   "id": "2ef8d96c-bf78-4b83-a2fa-5567265ea0fa",
   "metadata": {},
   "outputs": [],
   "source": [
    "#QUES.6   Explain the concept of generators in Python and how they are defined.\n",
    "#ANS.     A Python generator function allows you to declare a function that behaves like an iterator,  \n",
    "          #providing a faster and easier way to create iterators.\n",
    "         #they are define by function* syntax."
   ]
  },
  {
   "cell_type": "code",
   "execution_count": null,
   "id": "b3056105-88f1-4e4d-b2e7-61dd5b950ba4",
   "metadata": {},
   "outputs": [],
   "source": [
    "#QUES.7  What are the advantages of using generators over regular functions?\n",
    "#ANS.   IN generators we use yields keyword but in regular functions we use return \n",
    "        #statement.\n",
    "        #memory efficiency\n",
    "        #lazy evaluation\n",
    "        #improved readablity"
   ]
  },
  {
   "cell_type": "code",
   "execution_count": null,
   "id": "943411e7-952e-43b8-bfe3-995440941972",
   "metadata": {},
   "outputs": [],
   "source": [
    "#QUES. 8 What is a lambda function in Python and when is it typically used?\n",
    "#ANS.    Lambda function is called an anonymous function.\n",
    "        #lambda function can pass arguments like map(), filter().\n",
    "        #It helps to write a code in just one line.\n",
    "        #syntax is lambda arguments: expression\n",
    "        "
   ]
  },
  {
   "cell_type": "code",
   "execution_count": null,
   "id": "9a33e6dd-abd1-48f4-abf1-b06c13b37f21",
   "metadata": {},
   "outputs": [],
   "source": [
    "#QUES.9  Explain the purpose and usage of the `map()` function in Python.\n",
    "#ANS.   Map() is applicable on string ,list, tuple  which returns a value in form of iterator.\n",
    "       # The purpose of map() is to transform data by applying a function to each element in an\n",
    "       #iterable, without traversing any  loop through the items.\n",
    "\n",
    "        #syntax map(func , *iterables)"
   ]
  },
  {
   "cell_type": "code",
   "execution_count": 4,
   "id": "66959d95-4104-4fa3-83b4-62c85a7df5be",
   "metadata": {},
   "outputs": [
    {
     "name": "stdout",
     "output_type": "stream",
     "text": [
      "[1, 4, 9, 16]\n"
     ]
    }
   ],
   "source": [
    "#QUES.10 What is the difference between `map()`, `reduce()`, and `filter()` functions in Python?\n",
    "#ANS.   map()- every item in an iterable (or multiple iterables) and returns an iterator \n",
    "               #(a map object) with the transformed values.\n",
    "               #map() uses to modify the elements.\n",
    "#example- \n",
    "\n",
    "numbers = [1, 2, 3, 4]\n",
    "result = map(lambda x: x ** 2, numbers)\n",
    "print(list(result))  \n"
   ]
  },
  {
   "cell_type": "code",
   "execution_count": 5,
   "id": "5b0eb813-1255-4ce2-95de-c8659da239b0",
   "metadata": {},
   "outputs": [
    {
     "name": "stdout",
     "output_type": "stream",
     "text": [
      "10\n"
     ]
    }
   ],
   "source": [
    "#reduce()-when a function takes two arguments it reduce into a single value.\n",
    "         #When you want to aggregate all items in a collection into a single value\n",
    "         #(like calculating a sum, product).\n",
    "         #it always take a single value.\n",
    "#example-\n",
    "from functools import reduce\n",
    "numbers = [1, 2, 3, 4]\n",
    "result = reduce(lambda x, y: x + y, numbers)\n",
    "print(result)  \n"
   ]
  },
  {
   "cell_type": "code",
   "execution_count": 6,
   "id": "ebff8434-4362-4621-a5ba-f74dcc370e38",
   "metadata": {},
   "outputs": [
    {
     "name": "stdout",
     "output_type": "stream",
     "text": [
      "[2, 4]\n"
     ]
    }
   ],
   "source": [
    "#filter()- it is based on when function gives value i.e true or false. It uses when we want \n",
    "           #a specific element from a collection.\n",
    "#example-\n",
    "numbers = [1, 2, 3, 4, 5]\n",
    "result = filter(lambda x: x % 2 == 0, numbers)\n",
    "print(list(result))  \n"
   ]
  },
  {
   "cell_type": "code",
   "execution_count": null,
   "id": "8b9ccf8a-2c49-42f6-9528-716fead3d242",
   "metadata": {},
   "outputs": [],
   "source": [
    "#Practical ques\n",
    "#1. Write a Python function that takes a list of numbers as input and returns the sum of all even numbers in\n",
    "    #the list."
   ]
  },
  {
   "cell_type": "code",
   "execution_count": 1,
   "id": "0cfefb36-5449-4a42-a687-e0d46fa08452",
   "metadata": {},
   "outputs": [
    {
     "data": {
      "text/plain": [
       "12"
      ]
     },
     "execution_count": 1,
     "metadata": {},
     "output_type": "execute_result"
    }
   ],
   "source": [
    "def even (numbers):\n",
    "    sum=0\n",
    "    for n in numbers:\n",
    "        if n%2==0:\n",
    "            sum=sum+n\n",
    "    return sum\n",
    "even ([1,2,3,4,5,6])"
   ]
  },
  {
   "cell_type": "code",
   "execution_count": null,
   "id": "dbf5748f-2b22-4737-bf23-797ef7175498",
   "metadata": {},
   "outputs": [],
   "source": [
    "#2. Create a Python function that accepts a string and returns the reverse of that string.\n"
   ]
  },
  {
   "cell_type": "code",
   "execution_count": 13,
   "id": "7bf9455b-eb85-4b5f-b11d-e4cd390ed270",
   "metadata": {},
   "outputs": [
    {
     "name": "stdout",
     "output_type": "stream",
     "text": [
      "akinrav\n"
     ]
    }
   ],
   "source": [
    "def reverse_string(n):\n",
    "    s=n[::-1]\n",
    "    return s\n",
    "n=\"varnika\"\n",
    "r=reverse_string(n)\n",
    "print(r)"
   ]
  },
  {
   "cell_type": "code",
   "execution_count": null,
   "id": "9cbcdab5-9978-4206-9092-e41a4de291d3",
   "metadata": {},
   "outputs": [],
   "source": [
    "#3.  Implement a Python function that takes a list of integers and returns a new list containing the squares of\n",
    "     #each number."
   ]
  },
  {
   "cell_type": "code",
   "execution_count": 14,
   "id": "d53c4eb4-6fc8-4c0e-bec6-dc7f0bbbc6a9",
   "metadata": {},
   "outputs": [
    {
     "data": {
      "text/plain": [
       "[4, 25, 64]"
      ]
     },
     "execution_count": 14,
     "metadata": {},
     "output_type": "execute_result"
    }
   ],
   "source": [
    "def square_no(n):\n",
    "    s=[]\n",
    "    for i in n:\n",
    "        s.append(i**2)\n",
    "    return s\n",
    "square_no([2,5,8])"
   ]
  },
  {
   "cell_type": "code",
   "execution_count": null,
   "id": "a3f88cba-beb8-4db3-a1c8-af94481da60b",
   "metadata": {},
   "outputs": [],
   "source": [
    "#4. Write a Python function that checks if a given number is prime or not from 1 to 200."
   ]
  },
  {
   "cell_type": "code",
   "execution_count": 3,
   "id": "28af2062-4eb1-422f-bd74-40fdc0d3b437",
   "metadata": {},
   "outputs": [
    {
     "name": "stdout",
     "output_type": "stream",
     "text": [
      "[2, 3, 5, 7, 11, 13, 17, 19, 23, 29, 31, 37, 41, 43, 47, 53, 59, 61, 67, 71, 73, 79, 83, 89, 97, 101, 103, 107, 109, 113, 127, 131, 137, 139, 149, 151, 157, 163, 167, 173, 179, 181, 191, 193, 197, 199]\n"
     ]
    }
   ],
   "source": [
    "def is_prime(num):\n",
    "    if num <= 1:\n",
    "        return False\n",
    "    for i in range(2, int(num**0.5) + 1):\n",
    "        if num % i == 0:\n",
    "            return False\n",
    "    return True\n",
    "primes = []\n",
    "for num in range(1, 200):\n",
    "    if is_prime(num):\n",
    "        primes.append(num)\n",
    "print(primes)\n"
   ]
  },
  {
   "cell_type": "code",
   "execution_count": 1,
   "id": "a140102b-9b56-4c26-8902-83a3e0fa7949",
   "metadata": {},
   "outputs": [
    {
     "name": "stdout",
     "output_type": "stream",
     "text": [
      "1\n",
      "2\n",
      "4\n",
      "8\n",
      "16\n",
      "32\n"
     ]
    }
   ],
   "source": [
    "#6. Write a generator function in Python that yields the powers of 2 up to a given exponent.\n",
    "def powers_of_two(max_exponent):\n",
    "    for exponent in range(max_exponent + 1):\n",
    "        yield 2 ** exponent\n",
    "for power in powers_of_two(5):\n",
    "    print(power)\n"
   ]
  },
  {
   "cell_type": "code",
   "execution_count": 3,
   "id": "7e22f2e9-1aa3-42ca-9dff-a20ce018b856",
   "metadata": {},
   "outputs": [
    {
     "name": "stdout",
     "output_type": "stream",
     "text": [
      "[(0, 2), (2, 3), (1, 5), (4, 8)]\n"
     ]
    }
   ],
   "source": [
    "#8  Use a lambda function in Python to sort a list of tuples based on the second element of each tuple.\n",
    "\n",
    "list1 = [(1, 5), (2, 3), (4, 8), (0, 2)]\n",
    "\n",
    "list2 = sorted(list1, key=lambda x: x[1])\n",
    "\n",
    "print(list2)\n"
   ]
  },
  {
   "cell_type": "code",
   "execution_count": 9,
   "id": "a7db1a24-5adc-4cbe-aac3-cce5a3ad50dd",
   "metadata": {},
   "outputs": [
    {
     "name": "stdout",
     "output_type": "stream",
     "text": [
      "[77.0, 86.0, 50.0]\n"
     ]
    }
   ],
   "source": [
    "#9 Write a Python program that uses `map()` to convert a list of temperatures from Celsius to Fahrenheit.\n",
    "def celsius_to_fahrenheit(n):\n",
    "    return(n*9/5) + 32\n",
    "temperature_celsius =[25,30,10]\n",
    "temperature_fahrenheit =list(map(celsius_to_fahrenheit,temperature_celsius ))\n",
    "print(temperature_fahrenheit)"
   ]
  },
  {
   "cell_type": "code",
   "execution_count": 18,
   "id": "0b4a5d37-ee57-4e00-961d-71d413feb1f4",
   "metadata": {},
   "outputs": [
    {
     "name": "stdout",
     "output_type": "stream",
     "text": [
      "ystrdy\n"
     ]
    }
   ],
   "source": [
    "# 10 Create a Python program that uses `filter()` to remove all the vowels from a given string\n",
    "z=\"yesterday\"\n",
    "vowels='a', 'e','i','o', 'u'\n",
    "result=\"\"\n",
    "for char in z:\n",
    "    if char not in vowels:\n",
    "        result=result+char\n",
    "print(result)"
   ]
  },
  {
   "cell_type": "code",
   "execution_count": 9,
   "id": "f59d7dd4-f0fc-457c-bd66-a701aeaf2255",
   "metadata": {},
   "outputs": [
    {
     "name": "stdout",
     "output_type": "stream",
     "text": [
      "113\n"
     ]
    }
   ],
   "source": [
    "#from functools import reduce\n",
    "\n",
    "# List of numbers\n",
    "numbers = [47, 11, 42, 13]\n",
    "\n",
    "# Use reduce to sum the numbers\n",
    "result = reduce(lambda x, y: x + y, numbers)\n",
    "\n",
    "print(result)\n"
   ]
  },
  {
   "cell_type": "code",
   "execution_count": 10,
   "id": "af12a814-f1e9-43d9-b1d6-9ffa9c65ba8b",
   "metadata": {},
   "outputs": [
    {
     "name": "stdout",
     "output_type": "stream",
     "text": [
      "60\n"
     ]
    }
   ],
   "source": [
    "z =[10, 20, 30]\n",
    "a =reduce(lambda x,y: x+y, z)\n",
    "print(a)"
   ]
  },
  {
   "cell_type": "code",
   "execution_count": null,
   "id": "6ccef1e3-e0aa-452a-83f9-5a1a4c308e8f",
   "metadata": {},
   "outputs": [],
   "source": []
  }
 ],
 "metadata": {
  "kernelspec": {
   "display_name": "Python 3 (ipykernel)",
   "language": "python",
   "name": "python3"
  },
  "language_info": {
   "codemirror_mode": {
    "name": "ipython",
    "version": 3
   },
   "file_extension": ".py",
   "mimetype": "text/x-python",
   "name": "python",
   "nbconvert_exporter": "python",
   "pygments_lexer": "ipython3",
   "version": "3.10.8"
  }
 },
 "nbformat": 4,
 "nbformat_minor": 5
}
